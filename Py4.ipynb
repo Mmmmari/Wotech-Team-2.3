{
  "nbformat": 4,
  "nbformat_minor": 0,
  "metadata": {
    "colab": {
      "provenance": [],
      "authorship_tag": "ABX9TyP9gQFkz1thacBjL88Gkvgk",
      "include_colab_link": true
    },
    "kernelspec": {
      "name": "python3",
      "display_name": "Python 3"
    },
    "language_info": {
      "name": "python"
    }
  },
  "cells": [
    {
      "cell_type": "markdown",
      "metadata": {
        "id": "view-in-github",
        "colab_type": "text"
      },
      "source": [
        "<a href=\"https://colab.research.google.com/github/Mmmmari/Wotech-Team-2.3/blob/main/Py4.ipynb\" target=\"_parent\"><img src=\"https://colab.research.google.com/assets/colab-badge.svg\" alt=\"Open In Colab\"/></a>"
      ]
    },
    {
      "cell_type": "code",
      "execution_count": null,
      "metadata": {
        "id": "Rmx6iCWjRJeW"
      },
      "outputs": [],
      "source": [
        "if # TRUE\n",
        "----\n",
        "elif # If is FALSE, this will take place\n",
        "----\n",
        "else # If non of the previous are TRUE, this will take place"
      ]
    },
    {
      "cell_type": "markdown",
      "source": [
        "NESTED DECISIONS"
      ],
      "metadata": {
        "id": "7kel9TwcSOJU"
      }
    },
    {
      "cell_type": "code",
      "source": [
        "# Compare two numbers in nested decision.\n",
        "\n",
        "num1 = int(input('Write number 1: ')) # This input would come out as a string, but we make it an integer with int.\n",
        "num2 = int(input('Write number 2: '))\n",
        "\n",
        "if num1 >= num2:\n",
        "  if num1 == num2:\n",
        "    print(f'{num1} is equal to {num2}')\n",
        "  else:\n",
        "    print(f'{num1} is greater than {num2}')\n",
        "else:\n",
        "  print(f'{num1} is smaller than {num2}')\n",
        "\n",
        "  # Nested decisions only work when the indentation is correct.\n"
      ],
      "metadata": {
        "colab": {
          "base_uri": "https://localhost:8080/"
        },
        "id": "rniusM_HSMrA",
        "outputId": "64f1eb64-dff4-4793-a4b6-c83059cfe7b5"
      },
      "execution_count": null,
      "outputs": [
        {
          "output_type": "stream",
          "name": "stdout",
          "text": [
            "Write number 1: 100\n",
            "Write number 2: 100\n",
            "100 is equal to 100\n"
          ]
        }
      ]
    },
    {
      "cell_type": "markdown",
      "source": [
        "## TRY and EXCEPT\n",
        "### Try - Run this code\n",
        "### Except - Execute this code when there is an exception\n",
        "### Else - No exceptions? Run this code.\n",
        "### Finally - Always run this code"
      ],
      "metadata": {
        "id": "Zap7zCtbUWW5"
      }
    },
    {
      "cell_type": "code",
      "source": [
        "# Try, Except AND Else\n",
        "\n",
        "stock = input('Stock: ')\n",
        "\n",
        "try:\n",
        "  product_stock = int(stock)\n",
        "except:\n",
        "  print('Wrong input!')\n",
        "else:                     # else informs that the following code is also part of the try except part\n",
        "  if product_stock > 10:\n",
        "    print('Stock level sufficient')\n",
        "  else:\n",
        "    print('Low stock!')"
      ],
      "metadata": {
        "colab": {
          "base_uri": "https://localhost:8080/"
        },
        "id": "kV966RY6UZq3",
        "outputId": "74de0ebd-8011-43ad-fcd6-1f404d1417d1"
      },
      "execution_count": null,
      "outputs": [
        {
          "output_type": "stream",
          "name": "stdout",
          "text": [
            "Stock: abc\n",
            "Wrong input!\n"
          ]
        }
      ]
    },
    {
      "cell_type": "code",
      "source": [
        "stock = input('Input stock: ')\n",
        "\n",
        "try:\n",
        "    product_stock = int(stock)\n",
        "except:\n",
        "    print('Wrong input!')\n",
        "\n",
        "if product_stock > 10:\n",
        "    print('Stock level is sufficient!')\n",
        "else:\n",
        "    print('Low stock!')"
      ],
      "metadata": {
        "id": "DxxXhjJyXG3B"
      },
      "execution_count": null,
      "outputs": []
    },
    {
      "cell_type": "code",
      "source": [
        "# While loop\n",
        "\n",
        "repeat = True\n",
        "\n",
        "while repeat:\n",
        "    stock = input('Input stock: ')\n",
        "\n",
        "    try:\n",
        "        product_stock = int(stock)\n",
        "    except:\n",
        "        print('Wrong input!')\n",
        "    else:\n",
        "        if product_stock > 10:\n",
        "            print('Stock level is sufficient!')\n",
        "        else:\n",
        "            print('Low stock!')\n",
        "        repeat = False"
      ],
      "metadata": {
        "colab": {
          "base_uri": "https://localhost:8080/"
        },
        "id": "I-SmNhjFYQee",
        "outputId": "c16bbd3d-508d-4393-81c2-589eae5514fd"
      },
      "execution_count": null,
      "outputs": [
        {
          "output_type": "stream",
          "name": "stdout",
          "text": [
            "Input stock: and\n",
            "Wrong input!\n",
            "Input stock: 5\n",
            "Low stock!\n"
          ]
        }
      ]
    },
    {
      "cell_type": "markdown",
      "source": [
        "1. Prompt the user to enter their name, the speed limit (in km/h), and their actual speed (in km/h).\n",
        "2. Calculate the difference between the actual speed and the speed limit, and then calculate the fine based on the difference (3 euros per km/h over the limit).\n",
        "3. Handle potential non-integer inputs for speed limit and actual speed using a try block.\n",
        "4. If non-integer inputs are detected, set the speed limit to -1 to indicate wrong speed values.\n",
        "5. If the speed limit is -1, print \"Wrong speed values entered. Please enter km/h.\"\n",
        "6. If the actual speed does not exceed the speed limit, print \"Speed limit is not exceeded. No fine applied.\"\n",
        "7. If the actual speed exceeds the speed limit, check if the fine is less than or equal to 190 euros. If so, print \"{name}, your fine for speeding is {fine} euros.\"\n",
        "8. Otherwise, print \"{name}, your fine for speeding is 190 euros.\"-"
      ],
      "metadata": {
        "id": "HTR9zjIwYrEe"
      }
    },
    {
      "cell_type": "code",
      "source": [
        "name = input('Enter your name: ')\n",
        "speed_limit = input('What is the speed limit (km/h): ')\n",
        "your_speed = input('Your speed (km/h): ')\n",
        "\n",
        "try:\n",
        "  speed_limit = int(speed_limit)\n",
        "  your_speed = int(your_speed)\n",
        "except:\n",
        "  actual_speed = -1\n",
        "  print('Wrong speed values entered. Please enter km/h')\n",
        "else:\n",
        "  fine = int(your_speed - speed_limit)*3 #difference < 0\n",
        "  if speed_limit < 0 or your_speed < 0:\n",
        "    print('Speed (limit) must be positive')\n",
        "  elif speed_limit >= your_speed:\n",
        "    print('Speed limit is not exceeded. No fine applied')\n",
        "  else:\n",
        "    if fine <= 190:\n",
        "      print(f'{name}, your fine for speeding is {fine} euros')\n",
        "    else:\n",
        "      print(f'{name}, your fine for speeding is 190 euros.')\n",
        "\n"
      ],
      "metadata": {
        "colab": {
          "base_uri": "https://localhost:8080/"
        },
        "id": "fEGDZlpqYc04",
        "outputId": "93763a9e-6432-428b-ef77-ad9c374950c9"
      },
      "execution_count": null,
      "outputs": [
        {
          "output_type": "stream",
          "name": "stdout",
          "text": [
            "Enter your name: Rob\n",
            "What is the speed limit (km/h): 100\n",
            "Your speed (km/h): -200\n",
            "Speed must be positive\n"
          ]
        }
      ]
    },
    {
      "cell_type": "code",
      "source": [
        "name = input('Enter your name: ')\n",
        "speed_limit = input('What is the speed limit (km/h): ')\n",
        "your_speed = input('Your speed (km/h): ')\n",
        "\n",
        "try:\n",
        "  speed_limit = int(speed_limit)\n",
        "  your_speed = int(your_speed)\n",
        "except:\n",
        "  actual_speed = -1\n",
        "  print('Wrong speed values entered. Please enter km/h')\n",
        "else:\n",
        "  fine = int(your_speed - speed_limit)*3 #difference < 0\n",
        "  if speed_limit < 0 or your_speed < 0:\n",
        "    print('Speed (limit) must be positive')\n",
        "  elif speed_limit >= your_speed:\n",
        "    print('Speed limit is not exceeded. No fine applied')\n",
        "  else:\n",
        "    fine = min(190, fine) # determining the trahvivahemik\n",
        "    print(f'{name}, your fine for speeding is {fine} euros.')\n",
        "if fine <= 0:\n",
        "    print('Speed limit is not exceeded. No fine applied.')\n"
      ],
      "metadata": {
        "colab": {
          "base_uri": "https://localhost:8080/"
        },
        "id": "Niaff5DXh8C_",
        "outputId": "52083183-01b6-456f-e9ff-decfccfbf2ce"
      },
      "execution_count": null,
      "outputs": [
        {
          "output_type": "stream",
          "name": "stdout",
          "text": [
            "Enter your name: ROb\n",
            "What is the speed limit (km/h): 50\n",
            "Your speed (km/h): 60\n",
            "ROb, your fine for speeding is 30 euros.\n"
          ]
        }
      ]
    },
    {
      "cell_type": "markdown",
      "source": [
        "LISTS"
      ],
      "metadata": {
        "id": "BhJ4JTcviRPe"
      }
    },
    {
      "cell_type": "code",
      "source": [
        "flowers = \"pink primrose,hard-leaved pocket orchid,canterbury bells,sweet pea,english marigold,tiger lily,moon orchid,bird of paradise,monkshood,globe thistle\"\n",
        "print(type(flowers))"
      ],
      "metadata": {
        "colab": {
          "base_uri": "https://localhost:8080/"
        },
        "id": "FdnwxeqtiSge",
        "outputId": "53d3f9ee-a3fd-44a3-99df-86a37ea9bdb3"
      },
      "execution_count": null,
      "outputs": [
        {
          "output_type": "stream",
          "name": "stdout",
          "text": [
            "<class 'str'>\n"
          ]
        }
      ]
    },
    {
      "cell_type": "code",
      "source": [
        "# Lists are enclosed in []\n",
        "# Lists have items separated by ,\n",
        "\n",
        "flowers = [\"pink primrose\",\"hard-leaved pocket orchid\",\"canterbury bells\",\"sweet pea\",\"english marigold\",\"tiger lily\",\"moon orchid\",\"bird of paradise\",\"monkshood\",\"globe thistle\"]\n",
        "print(type(flowers))"
      ],
      "metadata": {
        "colab": {
          "base_uri": "https://localhost:8080/"
        },
        "id": "Ys1OQOJSjIcl",
        "outputId": "65124659-444e-4ce9-f1f1-d868d2d8ab70"
      },
      "execution_count": null,
      "outputs": [
        {
          "output_type": "stream",
          "name": "stdout",
          "text": [
            "<class 'list'>\n"
          ]
        }
      ]
    },
    {
      "cell_type": "code",
      "source": [
        "# HOW MANY ITEMS IN THE LIST?\n",
        "\n",
        "print(len(flowers))"
      ],
      "metadata": {
        "colab": {
          "base_uri": "https://localhost:8080/"
        },
        "id": "BQTGO1BUkK4J",
        "outputId": "b41e212a-7dcd-4bbc-b337-4b4ba6b01479"
      },
      "execution_count": null,
      "outputs": [
        {
          "output_type": "stream",
          "name": "stdout",
          "text": [
            "10\n"
          ]
        }
      ]
    },
    {
      "cell_type": "code",
      "source": [
        "# Python starts counting from 0\n",
        "# Python doesn't include the last item in range, so from 1:5 it prints items nr 2, 3, 4, 5 on the list\n",
        "\n",
        "print('First entry:', flowers[0])\n",
        "print(flowers [1])\n",
        "print('Last entry is:', flowers[9])\n",
        "print('Last entry is:', flowers[-1])\n",
        "print('Specifying the start and end of items:', flowers [1:5])\n",
        "print('Up to the fifth item', flowers [:5]) #access up to the fifth item\n",
        "print('Every other item:', flowers[::2]) # access every second item [start_index : end_index : step]\n"
      ],
      "metadata": {
        "colab": {
          "base_uri": "https://localhost:8080/"
        },
        "id": "RF43yqyPlIgm",
        "outputId": "bbccae87-8dfa-4727-8d65-56da824c2128"
      },
      "execution_count": null,
      "outputs": [
        {
          "output_type": "stream",
          "name": "stdout",
          "text": [
            "First entry: pink primrose\n",
            "hard-leaved pocket orchid\n",
            "Last entry is: globe thistle\n",
            "Last entry is: globe thistle\n",
            "Specifying the start and end of items: ['hard-leaved pocket orchid', 'canterbury bells', 'sweet pea', 'english marigold']\n",
            "Up to the fifth item ['pink primrose', 'hard-leaved pocket orchid', 'canterbury bells', 'sweet pea', 'english marigold']\n",
            "Every other item: ['pink primrose', 'canterbury bells', 'english marigold', 'moon orchid', 'monkshood']\n"
          ]
        }
      ]
    },
    {
      "cell_type": "code",
      "source": [
        "# FOR LOOP with lists\n",
        "\n",
        "for item in flowers[::2]:\n",
        "  print(item)"
      ],
      "metadata": {
        "colab": {
          "base_uri": "https://localhost:8080/"
        },
        "id": "q2sa5I2EnGdP",
        "outputId": "3fe1ace1-494b-4639-c7fd-c8da815cea69"
      },
      "execution_count": null,
      "outputs": [
        {
          "output_type": "stream",
          "name": "stdout",
          "text": [
            "pink primrose\n",
            "canterbury bells\n",
            "english marigold\n",
            "moon orchid\n",
            "monkshood\n"
          ]
        }
      ]
    },
    {
      "cell_type": "code",
      "source": [
        "my_list = ['one', 'two', 'three', 4, 5]\n",
        "\n",
        "print(my_list[1])\n",
        "print(my_list[-2])\n",
        "print(my_list[3])"
      ],
      "metadata": {
        "colab": {
          "base_uri": "https://localhost:8080/"
        },
        "id": "ABR8GkyroI1h",
        "outputId": "205949b7-ad09-4437-b406-221ff4f41d52"
      },
      "execution_count": null,
      "outputs": [
        {
          "output_type": "stream",
          "name": "stdout",
          "text": [
            "two\n",
            "4\n",
            "4\n"
          ]
        }
      ]
    },
    {
      "cell_type": "code",
      "source": [
        "my_list = my_list + ['new item'] # ADDING NEW ITEM to the list, and saving the new version of my_list\n",
        "my_list"
      ],
      "metadata": {
        "colab": {
          "base_uri": "https://localhost:8080/"
        },
        "id": "fBL4NncEo2nV",
        "outputId": "f417bd2a-a63f-4964-f19e-a168e563479f"
      },
      "execution_count": null,
      "outputs": [
        {
          "output_type": "execute_result",
          "data": {
            "text/plain": [
              "['one', 'two', 'three', 4, 5, 'new item']"
            ]
          },
          "metadata": {},
          "execution_count": 4
        }
      ]
    },
    {
      "cell_type": "code",
      "source": [
        "my_list[1] = 2 # Making a substitution on the list\n",
        "my_list"
      ],
      "metadata": {
        "colab": {
          "base_uri": "https://localhost:8080/"
        },
        "id": "FCxdNVKfppVf",
        "outputId": "908d31f8-8bb4-456b-d639-ed4ae2c3f23a"
      },
      "execution_count": null,
      "outputs": [
        {
          "output_type": "execute_result",
          "data": {
            "text/plain": [
              "['one', 2, 'three', 4, 5, 'new item']"
            ]
          },
          "metadata": {},
          "execution_count": 5
        }
      ]
    },
    {
      "cell_type": "code",
      "source": [
        "my_list.append('append me')\n",
        "my_list"
      ],
      "metadata": {
        "colab": {
          "base_uri": "https://localhost:8080/"
        },
        "id": "Dbopij4sqbv2",
        "outputId": "490bd4d4-8f3b-4d05-bb85-7762c6c6053a"
      },
      "execution_count": null,
      "outputs": [
        {
          "output_type": "execute_result",
          "data": {
            "text/plain": [
              "['one', 2, 'three', 4, 5, 'new item', 'append me']"
            ]
          },
          "metadata": {},
          "execution_count": 6
        }
      ]
    },
    {
      "cell_type": "code",
      "source": [
        "my_list.pop(3)\n",
        "my_list"
      ],
      "metadata": {
        "colab": {
          "base_uri": "https://localhost:8080/"
        },
        "id": "fIcIyP0ArbWG",
        "outputId": "a90e3c05-dfdc-4303-cfd7-823f6deb4ccc"
      },
      "execution_count": null,
      "outputs": [
        {
          "output_type": "execute_result",
          "data": {
            "text/plain": [
              "['one', 2, 'three', 5, 'new item', 'append me']"
            ]
          },
          "metadata": {},
          "execution_count": 7
        }
      ]
    }
  ]
}