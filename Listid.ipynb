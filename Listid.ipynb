{
  "nbformat": 4,
  "nbformat_minor": 0,
  "metadata": {
    "colab": {
      "provenance": [],
      "authorship_tag": "ABX9TyNKcPsrcFOnPB7h8twPZ2pv",
      "include_colab_link": true
    },
    "kernelspec": {
      "name": "python3",
      "display_name": "Python 3"
    },
    "language_info": {
      "name": "python"
    }
  },
  "cells": [
    {
      "cell_type": "markdown",
      "metadata": {
        "id": "view-in-github",
        "colab_type": "text"
      },
      "source": [
        "<a href=\"https://colab.research.google.com/github/Mmmmari/Wotech-Team-2.3/blob/main/Listid.ipynb\" target=\"_parent\"><img src=\"https://colab.research.google.com/assets/colab-badge.svg\" alt=\"Open In Colab\"/></a>"
      ]
    },
    {
      "cell_type": "code",
      "execution_count": null,
      "metadata": {
        "colab": {
          "base_uri": "https://localhost:8080/"
        },
        "id": "2Q9lcbRbVz_O",
        "outputId": "1ac051e1-793d-424d-e41b-987f27942541"
      },
      "outputs": [
        {
          "output_type": "stream",
          "name": "stdout",
          "text": [
            "Enter a fruit name: kiwi\n",
            "Yes, Kiwi is in the list of fruits.\n"
          ]
        }
      ],
      "source": [
        "#\n",
        "fruits =  [\"apple\", \"orange\", \"banana\", \"grape\", \"kiwi\"]\n",
        "\n",
        "# Prompt the user to enter a fruit name\n",
        "user_input = input(\"Enter a fruit name: \")\n",
        "\n",
        "# Check if the entered fruit is in the list\n",
        "if user_input.lower() in fruits:\n",
        "    print(\"Yes,\", user_input.capitalize(), \"is in the list of fruits.\")\n",
        "else:\n",
        "    print(\"Sorry,\", user_input.capitalize(), \"is not in the list of fruits.\")\n",
        "\n"
      ]
    },
    {
      "cell_type": "code",
      "source": [
        "\n",
        "# List of numbers\n",
        "numbers = [1, 20, 35, 400, 5]\n",
        "\n",
        "# Prompt the user to enter a number\n",
        "user_input = int(input(\"Enter a number: \"))\n",
        "\n",
        "# Check if the entered number is in the list\n",
        "if user_input in numbers:\n",
        "    # Check if the number is even or odd. Nested\n",
        "    if user_input % 2 == 0:\n",
        "        print(user_input, \"is in the list of numbers and it's even.\")\n",
        "    else:\n",
        "        print(user_input, \"is in the list of numbers and it's odd.\")\n",
        "else:\n",
        "    print(user_input, \"is not in the list of numbers.\")"
      ],
      "metadata": {
        "colab": {
          "base_uri": "https://localhost:8080/"
        },
        "id": "_Jd-BztBY7nF",
        "outputId": "049e578b-3737-43f7-92a9-83263d347271"
      },
      "execution_count": null,
      "outputs": [
        {
          "output_type": "stream",
          "name": "stdout",
          "text": [
            "Enter a number: 5\n",
            "5 is in the list of numbers and it's odd.\n"
          ]
        }
      ]
    },
    {
      "cell_type": "code",
      "source": [
        "# COUNT (method)\n",
        "\n",
        "numbers = [1,2,7,6,5,5]\n",
        "\n",
        "target_number =5\n",
        "count = numbers.count(target_number)\n",
        "print(f'The number {target_number} appears {count} times in the list')"
      ],
      "metadata": {
        "id": "I3t6NoCUb3Bc",
        "colab": {
          "base_uri": "https://localhost:8080/"
        },
        "outputId": "f18db7cb-ec1a-41e1-eff1-d426aa57fd90"
      },
      "execution_count": null,
      "outputs": [
        {
          "output_type": "stream",
          "name": "stdout",
          "text": [
            "The number 5 appears 2 times in the list\n"
          ]
        }
      ]
    },
    {
      "cell_type": "code",
      "source": [
        "fruits = [\"apple\", \"banana\", \"orange\"]\n",
        "fruits_index = fruits.index(\"banana\")\n",
        "print(f\"Index of 'banana' is: {fruits_index}\")\n",
        "\n"
      ],
      "metadata": {
        "colab": {
          "base_uri": "https://localhost:8080/"
        },
        "id": "8P74l955e8ZN",
        "outputId": "d899a9fc-9202-4a0e-cacf-a4ff019fc64a"
      },
      "execution_count": null,
      "outputs": [
        {
          "output_type": "stream",
          "name": "stdout",
          "text": [
            "Index of 'banana' is: 1\n"
          ]
        }
      ]
    },
    {
      "cell_type": "code",
      "source": [
        "#INSERT (method)\n",
        "\n",
        "numbers = [1,2,3,4,5]\n",
        "numbers.insert(2, 10)\n",
        "print(numbers)"
      ],
      "metadata": {
        "colab": {
          "base_uri": "https://localhost:8080/"
        },
        "id": "Z61YQEyHgyNW",
        "outputId": "9ead197e-1e48-4156-8dc9-02b3b0103095"
      },
      "execution_count": null,
      "outputs": [
        {
          "output_type": "stream",
          "name": "stdout",
          "text": [
            "[1, 2, 10, 3, 4, 5]\n"
          ]
        }
      ]
    },
    {
      "cell_type": "code",
      "source": [
        "# Remove method = POP (index!!!)\n",
        "\n",
        "numbers.pop(2)\n",
        "print(numbers)\n"
      ],
      "metadata": {
        "colab": {
          "base_uri": "https://localhost:8080/"
        },
        "id": "Jz6n2QqThcb9",
        "outputId": "49e57db9-8963-4c91-ae89-d4f6e1ea9eb0"
      },
      "execution_count": null,
      "outputs": [
        {
          "output_type": "stream",
          "name": "stdout",
          "text": [
            "[1, 2, 3, 4, 5]\n"
          ]
        }
      ]
    },
    {
      "cell_type": "code",
      "source": [
        "# SORT\n",
        "\n",
        "numbers3 = [6, 9, 10, 3, 5]\n",
        "numbers3.sort()  # Sorting the list in ascending order\n",
        "print(numbers3)\n",
        "\n"
      ],
      "metadata": {
        "colab": {
          "base_uri": "https://localhost:8080/"
        },
        "id": "pV1d5UhYh55v",
        "outputId": "4df55de7-7c22-4a4c-89d8-0f33f0436160"
      },
      "execution_count": null,
      "outputs": [
        {
          "output_type": "stream",
          "name": "stdout",
          "text": [
            "[3, 5, 6, 9, 10]\n"
          ]
        }
      ]
    },
    {
      "cell_type": "code",
      "source": [
        "# SORT\n",
        "\n",
        "numbers3 = [6, 9, 10, 3, 5]\n",
        "numbers3.sort(reverse=True)  # Sorting the list in descending order!!!\n",
        "print(numbers3)"
      ],
      "metadata": {
        "colab": {
          "base_uri": "https://localhost:8080/"
        },
        "id": "VQWWFEBdjHGI",
        "outputId": "632a8814-4b86-4bb7-bef8-a9e38784156c"
      },
      "execution_count": null,
      "outputs": [
        {
          "output_type": "stream",
          "name": "stdout",
          "text": [
            "[10, 9, 6, 5, 3]\n"
          ]
        }
      ]
    },
    {
      "cell_type": "code",
      "source": [
        "# Create a list of 5 elements\n",
        "numbers4 = [1, 9, 10, 3, 5]\n",
        "\n",
        "# Calculate maximum value\n",
        "\n",
        "max_value = max(numbers4)\n",
        "print(\"Maximum value in the list:\", max_value)\n",
        "\n",
        "# Calculate min value\n",
        "numbers4 = [1, 9, 10, 3, 5]\n",
        "min_value = min(numbers4)\n",
        "print(\"Minimum value in the list:\", min_value)\n",
        "\n",
        "# Calculate average value\n",
        "numbers4 = [1, 9, 10, 3, 5]\n",
        "average_value = sum(numbers4) / len(numbers4)\n",
        "print(\"Average value of the list:\", average_value)\n",
        "\n",
        "#Check if the average value is higher than 3\n",
        "numbers4 = [1, 9, 10, 3, 5]\n",
        "average_value = sum(numbers4) / len(numbers4)\n",
        "\n",
        "if average_value > 3:\n",
        "    print(\"The average value is higher than 3.\")\n",
        "else:\n",
        "    print(\"The average value is not higher than 3.\")\n",
        "\n",
        "# Sort the list\n",
        "numbers4 = [1, 9, 10, 3, 5]\n",
        "numbers4.sort()\n",
        "print(\"Sorted list in ascending order:\", numbers4)\n",
        "\n",
        "#Remove first number\n",
        "numbers4 = [1, 9, 10, 3, 5]\n",
        "numbers4.pop(0)\n",
        "print(\"List after removing the first number:\", numbers4)\n",
        "\n",
        "#Add Your number to the list\n",
        "numbers4 = [1, 9, 10, 3, 5]\n",
        "numbers4.append(3)\n",
        "print(\"List after adding 3 to the end:\", numbers4)\n",
        "\n",
        "#Add your name and calculate at what index is your name\n",
        "\n",
        "# Add your name\n",
        "numbers4 = [1, 9, 10, 3, 5]\n",
        "numbers4.append(\"Rahel\")\n",
        "\n",
        "# Calculate the index of \"Rahel\"\n",
        "name_index = numbers4.index(\"Rahel\")\n",
        "\n",
        "print(\"List after adding your name:\", numbers4)\n",
        "print(\"Index of 'Rahel' in the list:\", name_index)\n",
        "\n",
        "\n",
        "\n",
        "\n",
        "\n",
        "\n",
        "\n",
        "\n"
      ],
      "metadata": {
        "colab": {
          "base_uri": "https://localhost:8080/"
        },
        "id": "j76qdVXzk9pH",
        "outputId": "1f013c02-ea85-4fa5-c35a-c3702fe9ad27"
      },
      "execution_count": null,
      "outputs": [
        {
          "output_type": "stream",
          "name": "stdout",
          "text": [
            "Maximum value in the list: 10\n",
            "Minimum value in the list: 1\n",
            "Average value of the list: 5.6\n",
            "The average value is higher than 3.\n",
            "Sorted list in ascending order: [1, 3, 5, 9, 10]\n",
            "List after removing the first number: [9, 10, 3, 5]\n",
            "List after adding 3 to the end: [1, 9, 10, 3, 5, 3]\n",
            "List after adding your name: [1, 9, 10, 3, 5, 'Rahel']\n",
            "Index of 'Rahel' in the list: 5\n"
          ]
        }
      ]
    },
    {
      "cell_type": "code",
      "source": [
        "#RANGE - creates a list of integers. You decide how many you want. (start, stop, step)\n",
        "list(range(10,100, 10))\n",
        "numbers_with_range = range(1,7) #iterable object\n",
        "for i in numbers_with_range:\n",
        "  print(i)\n",
        "\n",
        "for number in numbers_with_range:\n",
        "  number = number*2 #it will make the list twice longer\n",
        "  print(number)\n",
        "\n"
      ],
      "metadata": {
        "colab": {
          "base_uri": "https://localhost:8080/"
        },
        "id": "HkPL0IzBri14",
        "outputId": "29cc9715-7caf-4184-e80c-3f1d58714d42"
      },
      "execution_count": null,
      "outputs": [
        {
          "output_type": "stream",
          "name": "stdout",
          "text": [
            "1\n",
            "2\n",
            "3\n",
            "4\n",
            "5\n",
            "6\n",
            "2\n",
            "4\n",
            "6\n",
            "8\n",
            "10\n",
            "12\n"
          ]
        }
      ]
    },
    {
      "cell_type": "code",
      "source": [],
      "metadata": {
        "id": "8dMV6D38wqNA"
      },
      "execution_count": null,
      "outputs": []
    },
    {
      "cell_type": "markdown",
      "source": [
        "Team work: Analyzing Numbers - Iterate through a list of 10 random numbers and determine whether each number is higher or lower than 5.\n",
        "Hints:\n",
        "Use a for loop to iterate through the list of numbers.\n",
        "Use if, elif, and else statements to check each number against 5.\n",
        "\n",
        "Example Output:\n",
        "3 is lower than 5\n",
        "8 is higher than 5\n",
        "1 is lower than 5\n",
        "6 is higher than 5 ......."
      ],
      "metadata": {
        "id": "zxRtbJZBwsbn"
      }
    },
    {
      "cell_type": "code",
      "source": [
        "import random\n",
        "\n",
        "# Generate a list of 10 random numbers\n",
        "random_numbers = [random.randint(1, 10) for _ in range(10)]\n",
        "\n",
        "# Iterate through the list and determine whether each number is higher or lower than 5\n",
        "for number in random_numbers:\n",
        "    if number > 5:\n",
        "        print(f\"{number} is higher than 5\")\n",
        "    elif number < 5:\n",
        "        print(f\"{number} is lower than 5\")\n",
        "    else:\n",
        "        print(f\"{number} is equal to 5\")"
      ],
      "metadata": {
        "colab": {
          "base_uri": "https://localhost:8080/"
        },
        "id": "Xb-DJqI1wuMv",
        "outputId": "8d907c3f-f060-443c-8feb-1849016d2995"
      },
      "execution_count": null,
      "outputs": [
        {
          "output_type": "stream",
          "name": "stdout",
          "text": [
            "2 is lower than 5\n",
            "4 is lower than 5\n",
            "6 is higher than 5\n",
            "4 is lower than 5\n",
            "9 is higher than 5\n",
            "8 is higher than 5\n",
            "3 is lower than 5\n",
            "10 is higher than 5\n",
            "8 is higher than 5\n",
            "10 is higher than 5\n"
          ]
        }
      ]
    }
  ]
}