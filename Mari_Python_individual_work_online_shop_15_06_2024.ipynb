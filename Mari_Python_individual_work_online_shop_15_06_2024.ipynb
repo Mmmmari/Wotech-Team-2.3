{
  "nbformat": 4,
  "nbformat_minor": 0,
  "metadata": {
    "colab": {
      "provenance": [],
      "authorship_tag": "ABX9TyMDimbl+RnVUOVUImQw2WHc",
      "include_colab_link": true
    },
    "kernelspec": {
      "name": "python3",
      "display_name": "Python 3"
    },
    "language_info": {
      "name": "python"
    }
  },
  "cells": [
    {
      "cell_type": "markdown",
      "metadata": {
        "id": "view-in-github",
        "colab_type": "text"
      },
      "source": [
        "<a href=\"https://colab.research.google.com/github/Mmmmari/Wotech-Team-2.3/blob/main/Python_individual_work_online_shop_15_06_2024.ipynb\" target=\"_parent\"><img src=\"https://colab.research.google.com/assets/colab-badge.svg\" alt=\"Open In Colab\"/></a>"
      ]
    },
    {
      "cell_type": "markdown",
      "source": [
        "Develop a simple prototype for an online shop\n",
        "1. Define classes Client, Items, Transaction\n",
        "2. Write the logic so that each client can purchase one of several items in a single transaction\n",
        "3. Make a printout of data with nested loops\n",
        "4. The program should print out:\n",
        "- all clients\n",
        "- all transactions of a client\n",
        "- all items purchased in each transaction of the client"
      ],
      "metadata": {
        "id": "roOtEC-HQwDy"
      }
    },
    {
      "cell_type": "code",
      "source": [],
      "metadata": {
        "id": "aIy3OZASyXp5"
      },
      "execution_count": null,
      "outputs": []
    },
    {
      "cell_type": "code",
      "execution_count": null,
      "metadata": {
        "colab": {
          "base_uri": "https://localhost:8080/"
        },
        "id": "nSw1HYyLQjJN",
        "outputId": "a4b338dd-1dcb-48b9-e6c2-235db1cfa6c8"
      },
      "outputs": [
        {
          "output_type": "stream",
          "name": "stdout",
          "text": [
            "Welcome to the online shop! \n",
            "Please enter your name to start shopping. Type 'QUIT' to quit. Once you quit, an overview of today's purchases will be provided. malte\n",
            "Welcome, malte!\n",
            "The following items are for sale: \n",
            "Name: Milk, Price: 2 €. \n",
            "Name: Bread, Price: 1 €. \n",
            "Name: Cheese, Price: 5 €. \n",
            "Name: Butter, Price: 2 €. \n",
            "Name: Ham, Price: 4 €. \n",
            "Please select an item by typing its name. Type 'CHECKOUT' to check out. Ham\n",
            "Ham has been added to your cart! \n",
            "Please select an item by typing its name. Type 'CHECKOUT' to check out. Cheese\n",
            "Cheese has been added to your cart! \n",
            "Please select an item by typing its name. Type 'CHECKOUT' to check out. lol\n",
            "The item you requested is not for sale in our shop! \n",
            "Please select an item by typing its name. Type 'CHECKOUT' to check out. CHECKOUT\n",
            "Thank you for your purchase, malte!\n",
            "You have purchased the following items: \n",
            "Name: Ham, Price: 4 €. \n",
            "Name: Cheese, Price: 5 €. \n",
            "Please enter your name to start shopping. Type 'QUIT' to quit. Once you quit, an overview of today's purchases will be provided. mari\n",
            "Welcome, mari!\n",
            "The following items are for sale: \n",
            "Name: Milk, Price: 2 €. \n",
            "Name: Bread, Price: 1 €. \n",
            "Name: Cheese, Price: 5 €. \n",
            "Name: Butter, Price: 2 €. \n",
            "Name: Ham, Price: 4 €. \n",
            "Please select an item by typing its name. Type 'CHECKOUT' to check out. Ham\n",
            "Ham has been added to your cart! \n",
            "Please select an item by typing its name. Type 'CHECKOUT' to check out. am\n",
            "The item you requested is not for sale in our shop! \n",
            "Please select an item by typing its name. Type 'CHECKOUT' to check out. Ham\n",
            "Ham has been added to your cart! \n",
            "Please select an item by typing its name. Type 'CHECKOUT' to check out. Ham\n",
            "Ham has been added to your cart! \n",
            "Please select an item by typing its name. Type 'CHECKOUT' to check out. Hammm\n",
            "The item you requested is not for sale in our shop! \n",
            "Please select an item by typing its name. Type 'CHECKOUT' to check out. CHECKOUT\n",
            "Thank you for your purchase, mari!\n",
            "You have purchased the following items: \n",
            "Name: Ham, Price: 4 €. \n",
            "Name: Ham, Price: 4 €. \n",
            "Name: Ham, Price: 4 €. \n",
            "Please enter your name to start shopping. Type 'QUIT' to quit. Once you quit, an overview of today's purchases will be provided. QUIT\n",
            "The shop is now closed. Here are the transactions of the day: \n",
            "Client malte bought the following:\n",
            "Name: Ham, Price: 4 €. \n",
            "Name: Cheese, Price: 5 €. \n",
            "Client mari bought the following:\n",
            "Name: Ham, Price: 4 €. \n",
            "Name: Ham, Price: 4 €. \n",
            "Name: Ham, Price: 4 €. \n"
          ]
        }
      ],
      "source": [
        "class Client:\n",
        "    def __init__(self, name):\n",
        "        self.name = name\n",
        "        self.transactions = []\n",
        "\n",
        "    def buy_items(self, transaction):\n",
        "        self.transactions.append(transaction)\n",
        "\n",
        "\n",
        "class Item:\n",
        "    def __init__(self, name, price):\n",
        "        self.name = name\n",
        "        self.price = price\n",
        "\n",
        "    def __str__(self):\n",
        "        return f\"Name: {self.name}, Price: {self.price} €. \"\n",
        "\n",
        "\n",
        "class Transaction:\n",
        "    def __init__(self, items):\n",
        "        self.items = items\n",
        "\n",
        "def find_item_by_name(inventory, name):\n",
        "    for item in inventory:\n",
        "        if item.name == name:\n",
        "            return item\n",
        "    return None\n",
        "\n",
        "milk = Item('Milk', 2)\n",
        "bread = Item('Bread', 1)\n",
        "cheese = Item('Cheese', 5)\n",
        "butter = Item('Butter', 2)\n",
        "ham = Item('Ham', 4)\n",
        "\n",
        "inventory = [milk, bread, cheese, butter, ham]\n",
        "\n",
        "clients = []\n",
        "\n",
        "print('Welcome to the online shop! ')\n",
        "while (True):\n",
        "    name = input(\"Please enter your name to start shopping. Type 'QUIT' to quit. Once you quit, an overview of today's purchases will be provided. \")\n",
        "    if name == \"QUIT\":\n",
        "        print('The shop is now closed. Here are the transactions of the day: ')\n",
        "        for client in clients:\n",
        "            print(f'Client {client.name} bought the following:')\n",
        "            for transaction in client.transactions:\n",
        "                for item in transaction.items:\n",
        "                    print(item)\n",
        "        break\n",
        "    print(f'Welcome, ' + name + '!')\n",
        "    current_client = Client(name)\n",
        "    clients.append(current_client)\n",
        "    cart = []\n",
        "    print('The following items are for sale: ')\n",
        "    for item in inventory:\n",
        "        print(item)\n",
        "    while (True):\n",
        "        item_to_purchase = input(\"Please select an item by typing its name. Type 'CHECKOUT' to check out. \")\n",
        "        if item_to_purchase == 'CHECKOUT':\n",
        "            print(f'Thank you for your purchase, ' + name + '!')\n",
        "            print('You have purchased the following items: ')\n",
        "            for i in cart:\n",
        "                print(i)\n",
        "            transaction = Transaction(cart)\n",
        "            current_client.buy_items(transaction)\n",
        "            break\n",
        "        item = find_item_by_name(inventory, item_to_purchase)\n",
        "        if item == None:\n",
        "            print(\"The item you requested is not for sale in our shop! \")\n",
        "            continue\n",
        "        cart.append(item)\n",
        "        print(item.name + ' has been added to your cart! ')\n",
        "\n"
      ]
    }
  ]
}
